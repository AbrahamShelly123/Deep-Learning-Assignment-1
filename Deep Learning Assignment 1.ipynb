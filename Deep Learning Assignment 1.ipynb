{
 "cells": [
  {
   "cell_type": "code",
   "execution_count": 8,
   "id": "c9f27bb3",
   "metadata": {},
   "outputs": [],
   "source": [
    "# Importing libraries\n",
    "import numpy as np\n",
    "import pandas as pd\n",
    "from sklearn.model_selection import train_test_split, GridSearchCV\n",
    "from sklearn.preprocessing import StandardScaler\n",
    "from sklearn.metrics import accuracy_score, precision_score, f1_score, recall_score\n",
    "from sklearn.neural_network import MLPClassifier"
   ]
  },
  {
   "cell_type": "code",
   "execution_count": 9,
   "id": "60e41cb0",
   "metadata": {},
   "outputs": [
    {
     "data": {
      "text/html": [
       "<div>\n",
       "<style scoped>\n",
       "    .dataframe tbody tr th:only-of-type {\n",
       "        vertical-align: middle;\n",
       "    }\n",
       "\n",
       "    .dataframe tbody tr th {\n",
       "        vertical-align: top;\n",
       "    }\n",
       "\n",
       "    .dataframe thead th {\n",
       "        text-align: right;\n",
       "    }\n",
       "</style>\n",
       "<table border=\"1\" class=\"dataframe\">\n",
       "  <thead>\n",
       "    <tr style=\"text-align: right;\">\n",
       "      <th></th>\n",
       "      <th>Outcome</th>\n",
       "      <th>Pregnancies</th>\n",
       "      <th>Glucose</th>\n",
       "      <th>BloodPressure</th>\n",
       "      <th>SkinThickness</th>\n",
       "      <th>Insulin</th>\n",
       "      <th>BMI</th>\n",
       "      <th>DiabetesPedigreeFunction</th>\n",
       "      <th>Age</th>\n",
       "    </tr>\n",
       "  </thead>\n",
       "  <tbody>\n",
       "    <tr>\n",
       "      <th>0</th>\n",
       "      <td>-1</td>\n",
       "      <td>6</td>\n",
       "      <td>148</td>\n",
       "      <td>72</td>\n",
       "      <td>35</td>\n",
       "      <td>0</td>\n",
       "      <td>33.599998</td>\n",
       "      <td>0.627</td>\n",
       "      <td>50</td>\n",
       "    </tr>\n",
       "    <tr>\n",
       "      <th>1</th>\n",
       "      <td>1</td>\n",
       "      <td>1</td>\n",
       "      <td>85</td>\n",
       "      <td>66</td>\n",
       "      <td>29</td>\n",
       "      <td>0</td>\n",
       "      <td>26.600000</td>\n",
       "      <td>0.351</td>\n",
       "      <td>31</td>\n",
       "    </tr>\n",
       "    <tr>\n",
       "      <th>2</th>\n",
       "      <td>-1</td>\n",
       "      <td>8</td>\n",
       "      <td>183</td>\n",
       "      <td>64</td>\n",
       "      <td>0</td>\n",
       "      <td>0</td>\n",
       "      <td>23.299999</td>\n",
       "      <td>0.672</td>\n",
       "      <td>32</td>\n",
       "    </tr>\n",
       "    <tr>\n",
       "      <th>3</th>\n",
       "      <td>1</td>\n",
       "      <td>1</td>\n",
       "      <td>89</td>\n",
       "      <td>66</td>\n",
       "      <td>23</td>\n",
       "      <td>94</td>\n",
       "      <td>28.100000</td>\n",
       "      <td>0.167</td>\n",
       "      <td>21</td>\n",
       "    </tr>\n",
       "    <tr>\n",
       "      <th>4</th>\n",
       "      <td>-1</td>\n",
       "      <td>0</td>\n",
       "      <td>137</td>\n",
       "      <td>40</td>\n",
       "      <td>35</td>\n",
       "      <td>168</td>\n",
       "      <td>43.099998</td>\n",
       "      <td>2.288</td>\n",
       "      <td>33</td>\n",
       "    </tr>\n",
       "  </tbody>\n",
       "</table>\n",
       "</div>"
      ],
      "text/plain": [
       "   Outcome  Pregnancies  Glucose  BloodPressure  SkinThickness  Insulin  \\\n",
       "0       -1            6      148             72             35        0   \n",
       "1        1            1       85             66             29        0   \n",
       "2       -1            8      183             64              0        0   \n",
       "3        1            1       89             66             23       94   \n",
       "4       -1            0      137             40             35      168   \n",
       "\n",
       "         BMI  DiabetesPedigreeFunction  Age  \n",
       "0  33.599998                     0.627   50  \n",
       "1  26.600000                     0.351   31  \n",
       "2  23.299999                     0.672   32  \n",
       "3  28.100000                     0.167   21  \n",
       "4  43.099998                     2.288   33  "
      ]
     },
     "execution_count": 9,
     "metadata": {},
     "output_type": "execute_result"
    }
   ],
   "source": [
    "# Read and display the current dataset\n",
    "dataset = pd.read_csv('diabetes.csv')\n",
    "dataset.head()"
   ]
  },
  {
   "cell_type": "code",
   "execution_count": 10,
   "id": "34be0b83",
   "metadata": {},
   "outputs": [],
   "source": [
    "# Split the dataset\n",
    "inp = dataset.iloc[:, 1:]\n",
    "outcomeCol = dataset.iloc[:, 0]\n",
    "    \n",
    "x, y = inp, outcomeCol\n",
    "xTrain, xTest, yTrain, yTest = train_test_split(x, y, test_size = 0.2, random_state = 42)\n",
    "\n",
    "scaler = StandardScaler()\n",
    "xTrain = scaler.fit_transform(xTrain)\n",
    "xTest = scaler.transform(xTest)"
   ]
  },
  {
   "cell_type": "code",
   "execution_count": 11,
   "id": "4af92da8",
   "metadata": {},
   "outputs": [
    {
     "name": "stdout",
     "output_type": "stream",
     "text": [
      "Initial accuracy: 77.27 %\n"
     ]
    }
   ],
   "source": [
    "# Create the multi layer perceptron using sklearn mlp classifier\n",
    "mlp = MLPClassifier(max_iter = 1000, random_state = 42, early_stopping = True)\n",
    "mlp.fit(xTrain, yTrain)\n",
    "\n",
    "yPred = mlp.predict(xTest)\n",
    "\n",
    "acc = accuracy_score(yTest, yPred)\n",
    "print(f\"Initial accuracy: { acc * 100:0.2f} %\")"
   ]
  },
  {
   "cell_type": "code",
   "execution_count": 12,
   "id": "8bdec1dc",
   "metadata": {},
   "outputs": [
    {
     "name": "stdout",
     "output_type": "stream",
     "text": [
      "Final accuracy: 79.22 %\n"
     ]
    }
   ],
   "source": [
    "# Now that we know the initial accuracy is 77.27%, we can try to improve upon that with hyperparameter tuning.\n",
    "parameters = {\n",
    "    'hidden_layer_sizes': [(100, 100), (50, 50)],\n",
    "    'activation': ['relu', 'tanh'],\n",
    "    'solver': ['sgd', 'adam'],\n",
    "    'alpha': [0.0001, 0.001],\n",
    "    'learning_rate': ['constant', 'adaptive']\n",
    "}\n",
    "\n",
    "gridSearch = GridSearchCV(mlp, parameters)\n",
    "gridSearch.fit(xTrain, yTrain)\n",
    "\n",
    "newYPred = gridSearch.predict(xTest)\n",
    "newAcc = accuracy_score(yTest, newYPred)\n",
    "print(f\"Final accuracy: { newAcc * 100:0.2f} %\")"
   ]
  },
  {
   "cell_type": "code",
   "execution_count": 15,
   "id": "cd44fb0f",
   "metadata": {},
   "outputs": [
    {
     "name": "stdout",
     "output_type": "stream",
     "text": [
      "Precision Score: 80.18 %\n",
      "Recall Score: 89.90 %\n",
      "F1 Score: 84.76 %\n"
     ]
    }
   ],
   "source": [
    "# Now that we have the accuracy, we can consider other key values such as the precision score, recall score and f1 score\n",
    "precisionScore = precision_score(yTest, newYPred)\n",
    "recallScore = recall_score(yTest, newYPred)\n",
    "f1Score = f1_score(yTest, newYPred)\n",
    "\n",
    "print(f\"Precision Score: { precisionScore * 100:0.2f} %\")\n",
    "print(f\"Recall Score: { recallScore * 100:0.2f} %\")\n",
    "print(f\"F1 Score: { f1Score * 100:0.2f} %\")"
   ]
  },
  {
   "cell_type": "code",
   "execution_count": null,
   "id": "cf5865ef",
   "metadata": {},
   "outputs": [],
   "source": []
  }
 ],
 "metadata": {
  "kernelspec": {
   "display_name": "Python 3 (ipykernel)",
   "language": "python",
   "name": "python3"
  },
  "language_info": {
   "codemirror_mode": {
    "name": "ipython",
    "version": 3
   },
   "file_extension": ".py",
   "mimetype": "text/x-python",
   "name": "python",
   "nbconvert_exporter": "python",
   "pygments_lexer": "ipython3",
   "version": "3.9.13"
  }
 },
 "nbformat": 4,
 "nbformat_minor": 5
}
